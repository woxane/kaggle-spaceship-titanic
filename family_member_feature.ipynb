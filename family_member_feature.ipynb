{
 "cells": [
  {
   "cell_type": "code",
   "execution_count": 4,
   "id": "720ac952-4170-4fff-af88-e66fac64f538",
   "metadata": {},
   "outputs": [],
   "source": [
    "import pandas as pd"
   ]
  },
  {
   "cell_type": "code",
   "execution_count": 6,
   "id": "0f8cefad-1318-4027-a856-7bd42f8ef9d1",
   "metadata": {},
   "outputs": [],
   "source": [
    "full_df = pd.read_csv('dataset/train.csv')\n",
    "df = full_df.copy()"
   ]
  },
  {
   "cell_type": "code",
   "execution_count": 8,
   "id": "3be4349b-6fdf-489e-9899-26f7795f1d31",
   "metadata": {},
   "outputs": [],
   "source": [
    "from sklearn.model_selection import train_test_split\n",
    "\n",
    "df_train, df_test = train_test_split(df, test_size=0.2)"
   ]
  },
  {
   "cell_type": "code",
   "execution_count": 10,
   "id": "ffe282a2-ed79-4757-918d-12eec1c5ab00",
   "metadata": {},
   "outputs": [],
   "source": [
    "from sklearn.preprocessing import StandardScaler\n",
    "from sklearn.preprocessing import OneHotEncoder\n",
    "from sklearn.impute import SimpleImputer\n",
    "\n",
    "def update_train_df(dataframe):\n",
    "    imputers = {\n",
    "        'name_imputer': SimpleImputer(strategy='constant', fill_value='Unknown Unknown'),\n",
    "        'num_imputer': SimpleImputer(strategy='median'),\n",
    "        'cat_imputer': SimpleImputer(strategy='constant', fill_value='Unknown'),\n",
    "    }\n",
    "\n",
    "    num_col = ['Age', 'RoomService', 'FoodCourt', 'ShoppingMall', 'Spa', 'VRDeck']\n",
    "    cat_cols = ['HomePlanet', 'CryoSleep', 'Cabin', 'Destination', 'VIP']\n",
    "    \n",
    "    df = dataframe.copy()\n",
    "\n",
    "    # Impute Part\n",
    "    df.loc[:, 'Name'] = imputers['name_imputer'].fit_transform(df.loc[:, 'Name'].to_frame())\n",
    "    df.loc[:, num_col] = imputers['num_imputer'].fit_transform(df.loc[:, num_col])\n",
    "    df.loc[:, cat_cols] = imputers['cat_imputer'].fit_transform(df.loc[:, cat_cols])\n",
    "\n",
    "    # Feature engineering Part\n",
    "    df.loc[:, 'FirstName'] = df.loc[:, 'Name'].apply(lambda x: x.split()[0])\n",
    "    df.loc[:, 'LastName'] = df.loc[:, 'Name'].apply(lambda x: x.split()[1])\n",
    "\n",
    "    df.loc[:, 'PassengerGGGG'] = df.loc[:, 'PassengerId'].apply(lambda x: int(x.split('_')[0]))\n",
    "    df.loc[:, 'PassengerPP'] = df.loc[:, 'PassengerId'].apply(lambda x: int(x.split('_')[1]))\n",
    "    \n",
    "    df.loc[:, 'NumberOfFellows'] = df.groupby('PassengerGGGG')['PassengerGGGG'].transform('count')\n",
    "    df.loc[:, 'IsAlone'] = df.loc[:, 'NumberOfFellows'].apply(lambda x: 1 if x == 1 else 0)\n",
    "\n",
    "    df['cabin_deck'] = df['Cabin'].apply(lambda x: x.split('/')[0] if x != 'Unknown' else 'U')\n",
    "    df['cabin_num'] = df['Cabin'].apply(lambda x: int(x.split('/')[1]) if x != 'Unknown' else -1)\n",
    "    df['cabin_side'] = df['Cabin'].apply(lambda x: x.split('/')[2] if x != 'Unknown' else 'U')\n",
    "\n",
    "    df.loc[:, 'TotalSpend'] = df.loc[:, ['RoomService', 'FoodCourt', 'ShoppingMall', 'Spa', 'VRDeck']].sum(axis=1)\n",
    "    df['IsSpendingZero'] = (df['TotalSpend'] == 0).astype(int)\n",
    "\n",
    "    df['n_family_member_in_group'] = (df.groupby(['PassengerGGGG', 'LastName'])['LastName'].transform('count'))\n",
    "    \n",
    "    # Removing unnecessary columns\n",
    "    df.drop(['Cabin', 'Name', 'PassengerId'], inplace=True, axis=1)\n",
    "    df.drop(['FirstName', 'LastName', 'PassengerGGGG'], inplace=True, axis=1)\n",
    "\n",
    "    # Encoding \n",
    "    cat_data = df.select_dtypes('object')\n",
    "    cat_data.loc[:, ['CryoSleep', 'VIP']] = cat_data.loc[:, ['CryoSleep', 'VIP']].astype('str')\n",
    "    \n",
    "    one_hot_encoder = OneHotEncoder(drop='first', dtype=int)\n",
    "    \n",
    "    cat_data_encoded = one_hot_encoder.fit_transform(cat_data)\n",
    "    encoded_feature_names = one_hot_encoder.get_feature_names_out(cat_data.columns)\n",
    "    \n",
    "    cat_encoded = pd.DataFrame(cat_data_encoded.toarray(), columns = encoded_feature_names, index=cat_data.index)\n",
    "    \n",
    "    non_cat = df.drop(cat_data.columns, axis=1)\n",
    "    df = pd.concat([non_cat, cat_encoded], axis=1)\n",
    "    \n",
    "    df.loc[:, 'Transported'] = df.loc[:, 'Transported'].astype(int)\n",
    "    \n",
    "    return df, imputers, one_hot_encoder"
   ]
  },
  {
   "cell_type": "code",
   "execution_count": 12,
   "id": "8989e997-ddf7-461c-892c-1dd2a0a501e1",
   "metadata": {},
   "outputs": [],
   "source": [
    "from sklearn.preprocessing import StandardScaler\n",
    "from sklearn.preprocessing import OneHotEncoder\n",
    "from sklearn.impute import SimpleImputer\n",
    "\n",
    "def update_test_df(dataframe, imputers, one_hot_encoder):\n",
    "    num_col = ['Age', 'RoomService', 'FoodCourt', 'ShoppingMall', 'Spa', 'VRDeck']\n",
    "    cat_cols = ['HomePlanet', 'CryoSleep', 'Cabin', 'Destination', 'VIP']\n",
    "    \n",
    "    df = dataframe.copy()\n",
    "\n",
    "    # Impute Part\n",
    "    df.loc[:, 'Name'] = imputers['name_imputer'].transform(df.loc[:, 'Name'].to_frame())\n",
    "    df.loc[:, num_col] = imputers['num_imputer'].transform(df.loc[:, num_col])\n",
    "    df.loc[:, cat_cols] = imputers['cat_imputer'].transform(df.loc[:, cat_cols])\n",
    "\n",
    "    # Feature engineering Part\n",
    "    df.loc[:, 'FirstName'] = df.loc[:, 'Name'].apply(lambda x: x.split()[0])\n",
    "    df.loc[:, 'LastName'] = df.loc[:, 'Name'].apply(lambda x: x.split()[1])\n",
    "\n",
    "    df.loc[:, 'PassengerGGGG'] = df.loc[:, 'PassengerId'].apply(lambda x: int(x.split('_')[0]))\n",
    "    df.loc[:, 'PassengerPP'] = df.loc[:, 'PassengerId'].apply(lambda x: int(x.split('_')[1]))\n",
    "    \n",
    "    df.loc[:, 'NumberOfFellows'] = df.groupby('PassengerGGGG')['PassengerGGGG'].transform('count')\n",
    "    df.loc[:, 'IsAlone'] = df.loc[:, 'NumberOfFellows'].apply(lambda x: 1 if x == 1 else 0)\n",
    "\n",
    "    df['cabin_deck'] = df['Cabin'].apply(lambda x: x.split('/')[0] if x != 'Unknown' else 'U')\n",
    "    df['cabin_num'] = df['Cabin'].apply(lambda x: int(x.split('/')[1]) if x != 'Unknown' else -1)\n",
    "    df['cabin_side'] = df['Cabin'].apply(lambda x: x.split('/')[2] if x != 'Unknown' else 'U')\n",
    "\n",
    "    df.loc[:, 'TotalSpend'] = df.loc[:, ['RoomService', 'FoodCourt', 'ShoppingMall', 'Spa', 'VRDeck']].sum(axis=1)\n",
    "    df['IsSpendingZero'] = (df['TotalSpend'] == 0).astype(int)\n",
    "\n",
    "    df['n_family_member_in_group'] = (df.groupby(['PassengerGGGG', 'LastName'])['LastName'].transform('count'))\n",
    "    \n",
    "    # Removing unnecessary columns\n",
    "    df.drop(['Cabin', 'Name', 'PassengerId'], inplace=True, axis=1)\n",
    "    df.drop(['FirstName', 'LastName', 'PassengerGGGG'], inplace=True, axis=1)\n",
    "\n",
    "    # Encoding\n",
    "    cat_data = df.select_dtypes('object')\n",
    "    cat_data.loc[:, ['CryoSleep', 'VIP']] = cat_data.loc[:, ['CryoSleep', 'VIP']].astype('str')\n",
    "        \n",
    "    cat_data_encoded = one_hot_encoder.transform(cat_data)\n",
    "    encoded_feature_names = one_hot_encoder.get_feature_names_out(cat_data.columns)\n",
    "    \n",
    "    cat_encoded = pd.DataFrame(cat_data_encoded.toarray(), columns = encoded_feature_names, index=cat_data.index)\n",
    "    \n",
    "    non_cat = df.drop(cat_data.columns, axis=1)\n",
    "    df = pd.concat([non_cat, cat_encoded], axis=1)\n",
    "    \n",
    "    return df"
   ]
  },
  {
   "cell_type": "code",
   "execution_count": 14,
   "id": "34a4d43b-aa00-41d0-bdce-8cbd78de4b3e",
   "metadata": {},
   "outputs": [],
   "source": [
    "df_train_updated, train_imputers, train_ohe = update_train_df(df_train) \n",
    "\n",
    "df_test_updated = update_test_df(df_test, train_imputers, train_ohe)\n",
    "\n",
    "X_train = df_train_updated.drop('Transported', axis=1)\n",
    "y_train = df_train_updated.loc[:, 'Transported']\n",
    "\n",
    "X_test = df_test_updated.drop('Transported', axis=1)\n",
    "y_test = df_test_updated.loc[:, 'Transported']"
   ]
  },
  {
   "cell_type": "code",
   "execution_count": null,
   "id": "9e72d74d-4aa1-4686-8568-2e5a8c0e53d5",
   "metadata": {},
   "outputs": [
    {
     "data": {
      "application/vnd.jupyter.widget-view+json": {
       "model_id": "a3625d48177646c4b8a3f8ce3972ccbb",
       "version_major": 2,
       "version_minor": 0
      },
      "text/plain": [
       "  0%|          | 0/29 [00:00<?, ?it/s]"
      ]
     },
     "metadata": {},
     "output_type": "display_data"
    }
   ],
   "source": [
    "from lazypredict.Supervised import LazyClassifier\n",
    "\n",
    "clf = LazyClassifier(verbose=0, ignore_warnings=True, custom_metric=None)\n",
    "models, predictions = clf.fit(X_train, X_test, y_train, y_test)\n",
    "\n",
    "models"
   ]
  },
  {
   "cell_type": "code",
   "execution_count": null,
   "id": "b79daa86-4885-485e-8763-acd3279033a6",
   "metadata": {},
   "outputs": [],
   "source": []
  },
  {
   "cell_type": "code",
   "execution_count": 1,
   "id": "efd72c10-64b7-474b-9ccf-e638565fb142",
   "metadata": {},
   "outputs": [
    {
     "name": "stdout",
     "output_type": "stream",
     "text": [
      ".max_buffer_size\n"
     ]
    }
   ],
   "source": [
    "!echo $NotebookApp.max_buffer_size"
   ]
  },
  {
   "cell_type": "code",
   "execution_count": null,
   "id": "7f780e11-980e-4434-808c-81cd63302171",
   "metadata": {},
   "outputs": [],
   "source": []
  }
 ],
 "metadata": {
  "kernelspec": {
   "display_name": "Python 3 (ipykernel)",
   "language": "python",
   "name": "python3"
  },
  "language_info": {
   "codemirror_mode": {
    "name": "ipython",
    "version": 3
   },
   "file_extension": ".py",
   "mimetype": "text/x-python",
   "name": "python",
   "nbconvert_exporter": "python",
   "pygments_lexer": "ipython3",
   "version": "3.12.2"
  }
 },
 "nbformat": 4,
 "nbformat_minor": 5
}
